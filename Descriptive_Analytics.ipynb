{
  "nbformat": 4,
  "nbformat_minor": 0,
  "metadata": {
    "colab": {
      "provenance": [],
      "include_colab_link": true
    },
    "kernelspec": {
      "name": "python3",
      "display_name": "Python 3"
    },
    "language_info": {
      "name": "python"
    }
  },
  "cells": [
    {
      "cell_type": "markdown",
      "metadata": {
        "id": "view-in-github",
        "colab_type": "text"
      },
      "source": [
        "<a href=\"https://colab.research.google.com/github/rizkyaryendigumilang/notes_materi-MS/blob/main/Descriptive_Analytics.ipynb\" target=\"_parent\"><img src=\"https://colab.research.google.com/assets/colab-badge.svg\" alt=\"Open In Colab\"/></a>"
      ]
    },
    {
      "cell_type": "markdown",
      "source": [
        "## Library"
      ],
      "metadata": {
        "id": "2-fhAvzF07F0"
      }
    },
    {
      "cell_type": "code",
      "execution_count": null,
      "metadata": {
        "id": "AJL1QELtMZ-G"
      },
      "outputs": [],
      "source": [
        "import numpy as np #library untuk matematika\n",
        "import pandas as pd #library untuk dataframe\n",
        "import seaborn as sns #library untuk visualisasi\n",
        "import matplotlib.pyplot as plt"
      ]
    },
    {
      "cell_type": "markdown",
      "source": [
        "### Load data\n"
      ],
      "metadata": {
        "id": "go7P2RkL1Tqu"
      }
    },
    {
      "cell_type": "code",
      "source": [
        "dataset = sns.load_dataset(\"titanic\")"
      ],
      "metadata": {
        "id": "I6a838ULRLsz"
      },
      "execution_count": null,
      "outputs": []
    },
    {
      "cell_type": "markdown",
      "source": [
        "## Memahami data yang dimilkki\n"
      ],
      "metadata": {
        "id": "ET6teU2hvDit"
      }
    },
    {
      "cell_type": "code",
      "source": [
        "#Melihat 5 data pertama untuk mendapatkan gamabran data yang dimiliki\n",
        "dataset.head()"
      ],
      "metadata": {
        "colab": {
          "base_uri": "https://localhost:8080/",
          "height": 206
        },
        "id": "5GZZcsHBRVa4",
        "outputId": "6de90561-ea0a-48fe-b4d5-b0fdbc49a6d2"
      },
      "execution_count": null,
      "outputs": [
        {
          "output_type": "execute_result",
          "data": {
            "text/plain": [
              "   survived  pclass     sex   age  sibsp  parch     fare embarked  class  \\\n",
              "0         0       3    male  22.0      1      0   7.2500        S  Third   \n",
              "1         1       1  female  38.0      1      0  71.2833        C  First   \n",
              "2         1       3  female  26.0      0      0   7.9250        S  Third   \n",
              "3         1       1  female  35.0      1      0  53.1000        S  First   \n",
              "4         0       3    male  35.0      0      0   8.0500        S  Third   \n",
              "\n",
              "     who  adult_male deck  embark_town alive  alone  \n",
              "0    man        True  NaN  Southampton    no  False  \n",
              "1  woman       False    C    Cherbourg   yes  False  \n",
              "2  woman       False  NaN  Southampton   yes   True  \n",
              "3  woman       False    C  Southampton   yes  False  \n",
              "4    man        True  NaN  Southampton    no   True  "
            ],
            "text/html": [
              "\n",
              "  <div id=\"df-31dfe564-4bc3-4fae-bdb9-23dd97142bfa\">\n",
              "    <div class=\"colab-df-container\">\n",
              "      <div>\n",
              "<style scoped>\n",
              "    .dataframe tbody tr th:only-of-type {\n",
              "        vertical-align: middle;\n",
              "    }\n",
              "\n",
              "    .dataframe tbody tr th {\n",
              "        vertical-align: top;\n",
              "    }\n",
              "\n",
              "    .dataframe thead th {\n",
              "        text-align: right;\n",
              "    }\n",
              "</style>\n",
              "<table border=\"1\" class=\"dataframe\">\n",
              "  <thead>\n",
              "    <tr style=\"text-align: right;\">\n",
              "      <th></th>\n",
              "      <th>survived</th>\n",
              "      <th>pclass</th>\n",
              "      <th>sex</th>\n",
              "      <th>age</th>\n",
              "      <th>sibsp</th>\n",
              "      <th>parch</th>\n",
              "      <th>fare</th>\n",
              "      <th>embarked</th>\n",
              "      <th>class</th>\n",
              "      <th>who</th>\n",
              "      <th>adult_male</th>\n",
              "      <th>deck</th>\n",
              "      <th>embark_town</th>\n",
              "      <th>alive</th>\n",
              "      <th>alone</th>\n",
              "    </tr>\n",
              "  </thead>\n",
              "  <tbody>\n",
              "    <tr>\n",
              "      <th>0</th>\n",
              "      <td>0</td>\n",
              "      <td>3</td>\n",
              "      <td>male</td>\n",
              "      <td>22.0</td>\n",
              "      <td>1</td>\n",
              "      <td>0</td>\n",
              "      <td>7.2500</td>\n",
              "      <td>S</td>\n",
              "      <td>Third</td>\n",
              "      <td>man</td>\n",
              "      <td>True</td>\n",
              "      <td>NaN</td>\n",
              "      <td>Southampton</td>\n",
              "      <td>no</td>\n",
              "      <td>False</td>\n",
              "    </tr>\n",
              "    <tr>\n",
              "      <th>1</th>\n",
              "      <td>1</td>\n",
              "      <td>1</td>\n",
              "      <td>female</td>\n",
              "      <td>38.0</td>\n",
              "      <td>1</td>\n",
              "      <td>0</td>\n",
              "      <td>71.2833</td>\n",
              "      <td>C</td>\n",
              "      <td>First</td>\n",
              "      <td>woman</td>\n",
              "      <td>False</td>\n",
              "      <td>C</td>\n",
              "      <td>Cherbourg</td>\n",
              "      <td>yes</td>\n",
              "      <td>False</td>\n",
              "    </tr>\n",
              "    <tr>\n",
              "      <th>2</th>\n",
              "      <td>1</td>\n",
              "      <td>3</td>\n",
              "      <td>female</td>\n",
              "      <td>26.0</td>\n",
              "      <td>0</td>\n",
              "      <td>0</td>\n",
              "      <td>7.9250</td>\n",
              "      <td>S</td>\n",
              "      <td>Third</td>\n",
              "      <td>woman</td>\n",
              "      <td>False</td>\n",
              "      <td>NaN</td>\n",
              "      <td>Southampton</td>\n",
              "      <td>yes</td>\n",
              "      <td>True</td>\n",
              "    </tr>\n",
              "    <tr>\n",
              "      <th>3</th>\n",
              "      <td>1</td>\n",
              "      <td>1</td>\n",
              "      <td>female</td>\n",
              "      <td>35.0</td>\n",
              "      <td>1</td>\n",
              "      <td>0</td>\n",
              "      <td>53.1000</td>\n",
              "      <td>S</td>\n",
              "      <td>First</td>\n",
              "      <td>woman</td>\n",
              "      <td>False</td>\n",
              "      <td>C</td>\n",
              "      <td>Southampton</td>\n",
              "      <td>yes</td>\n",
              "      <td>False</td>\n",
              "    </tr>\n",
              "    <tr>\n",
              "      <th>4</th>\n",
              "      <td>0</td>\n",
              "      <td>3</td>\n",
              "      <td>male</td>\n",
              "      <td>35.0</td>\n",
              "      <td>0</td>\n",
              "      <td>0</td>\n",
              "      <td>8.0500</td>\n",
              "      <td>S</td>\n",
              "      <td>Third</td>\n",
              "      <td>man</td>\n",
              "      <td>True</td>\n",
              "      <td>NaN</td>\n",
              "      <td>Southampton</td>\n",
              "      <td>no</td>\n",
              "      <td>True</td>\n",
              "    </tr>\n",
              "  </tbody>\n",
              "</table>\n",
              "</div>\n",
              "      <button class=\"colab-df-convert\" onclick=\"convertToInteractive('df-31dfe564-4bc3-4fae-bdb9-23dd97142bfa')\"\n",
              "              title=\"Convert this dataframe to an interactive table.\"\n",
              "              style=\"display:none;\">\n",
              "        \n",
              "  <svg xmlns=\"http://www.w3.org/2000/svg\" height=\"24px\"viewBox=\"0 0 24 24\"\n",
              "       width=\"24px\">\n",
              "    <path d=\"M0 0h24v24H0V0z\" fill=\"none\"/>\n",
              "    <path d=\"M18.56 5.44l.94 2.06.94-2.06 2.06-.94-2.06-.94-.94-2.06-.94 2.06-2.06.94zm-11 1L8.5 8.5l.94-2.06 2.06-.94-2.06-.94L8.5 2.5l-.94 2.06-2.06.94zm10 10l.94 2.06.94-2.06 2.06-.94-2.06-.94-.94-2.06-.94 2.06-2.06.94z\"/><path d=\"M17.41 7.96l-1.37-1.37c-.4-.4-.92-.59-1.43-.59-.52 0-1.04.2-1.43.59L10.3 9.45l-7.72 7.72c-.78.78-.78 2.05 0 2.83L4 21.41c.39.39.9.59 1.41.59.51 0 1.02-.2 1.41-.59l7.78-7.78 2.81-2.81c.8-.78.8-2.07 0-2.86zM5.41 20L4 18.59l7.72-7.72 1.47 1.35L5.41 20z\"/>\n",
              "  </svg>\n",
              "      </button>\n",
              "      \n",
              "  <style>\n",
              "    .colab-df-container {\n",
              "      display:flex;\n",
              "      flex-wrap:wrap;\n",
              "      gap: 12px;\n",
              "    }\n",
              "\n",
              "    .colab-df-convert {\n",
              "      background-color: #E8F0FE;\n",
              "      border: none;\n",
              "      border-radius: 50%;\n",
              "      cursor: pointer;\n",
              "      display: none;\n",
              "      fill: #1967D2;\n",
              "      height: 32px;\n",
              "      padding: 0 0 0 0;\n",
              "      width: 32px;\n",
              "    }\n",
              "\n",
              "    .colab-df-convert:hover {\n",
              "      background-color: #E2EBFA;\n",
              "      box-shadow: 0px 1px 2px rgba(60, 64, 67, 0.3), 0px 1px 3px 1px rgba(60, 64, 67, 0.15);\n",
              "      fill: #174EA6;\n",
              "    }\n",
              "\n",
              "    [theme=dark] .colab-df-convert {\n",
              "      background-color: #3B4455;\n",
              "      fill: #D2E3FC;\n",
              "    }\n",
              "\n",
              "    [theme=dark] .colab-df-convert:hover {\n",
              "      background-color: #434B5C;\n",
              "      box-shadow: 0px 1px 3px 1px rgba(0, 0, 0, 0.15);\n",
              "      filter: drop-shadow(0px 1px 2px rgba(0, 0, 0, 0.3));\n",
              "      fill: #FFFFFF;\n",
              "    }\n",
              "  </style>\n",
              "\n",
              "      <script>\n",
              "        const buttonEl =\n",
              "          document.querySelector('#df-31dfe564-4bc3-4fae-bdb9-23dd97142bfa button.colab-df-convert');\n",
              "        buttonEl.style.display =\n",
              "          google.colab.kernel.accessAllowed ? 'block' : 'none';\n",
              "\n",
              "        async function convertToInteractive(key) {\n",
              "          const element = document.querySelector('#df-31dfe564-4bc3-4fae-bdb9-23dd97142bfa');\n",
              "          const dataTable =\n",
              "            await google.colab.kernel.invokeFunction('convertToInteractive',\n",
              "                                                     [key], {});\n",
              "          if (!dataTable) return;\n",
              "\n",
              "          const docLinkHtml = 'Like what you see? Visit the ' +\n",
              "            '<a target=\"_blank\" href=https://colab.research.google.com/notebooks/data_table.ipynb>data table notebook</a>'\n",
              "            + ' to learn more about interactive tables.';\n",
              "          element.innerHTML = '';\n",
              "          dataTable['output_type'] = 'display_data';\n",
              "          await google.colab.output.renderOutput(dataTable, element);\n",
              "          const docLink = document.createElement('div');\n",
              "          docLink.innerHTML = docLinkHtml;\n",
              "          element.appendChild(docLink);\n",
              "        }\n",
              "      </script>\n",
              "    </div>\n",
              "  </div>\n",
              "  "
            ]
          },
          "metadata": {},
          "execution_count": 3
        }
      ]
    },
    {
      "cell_type": "code",
      "source": [
        "#Melihat informasi tipe data, missing values (data hilang), memori, banyak data\n",
        "dataset.info()"
      ],
      "metadata": {
        "colab": {
          "base_uri": "https://localhost:8080/"
        },
        "id": "Xd-yCa1DSYan",
        "outputId": "3ef57434-81e5-4e14-d29f-140188d1b729"
      },
      "execution_count": null,
      "outputs": [
        {
          "output_type": "stream",
          "name": "stdout",
          "text": [
            "<class 'pandas.core.frame.DataFrame'>\n",
            "RangeIndex: 891 entries, 0 to 890\n",
            "Data columns (total 15 columns):\n",
            " #   Column       Non-Null Count  Dtype   \n",
            "---  ------       --------------  -----   \n",
            " 0   survived     891 non-null    int64   \n",
            " 1   pclass       891 non-null    int64   \n",
            " 2   sex          891 non-null    object  \n",
            " 3   age          714 non-null    float64 \n",
            " 4   sibsp        891 non-null    int64   \n",
            " 5   parch        891 non-null    int64   \n",
            " 6   fare         891 non-null    float64 \n",
            " 7   embarked     889 non-null    object  \n",
            " 8   class        891 non-null    category\n",
            " 9   who          891 non-null    object  \n",
            " 10  adult_male   891 non-null    bool    \n",
            " 11  deck         203 non-null    category\n",
            " 12  embark_town  889 non-null    object  \n",
            " 13  alive        891 non-null    object  \n",
            " 14  alone        891 non-null    bool    \n",
            "dtypes: bool(2), category(2), float64(2), int64(4), object(5)\n",
            "memory usage: 80.7+ KB\n"
          ]
        }
      ]
    },
    {
      "cell_type": "markdown",
      "source": [
        "### Tipe data"
      ],
      "metadata": {
        "id": "kYV3QF_P1fso"
      }
    },
    {
      "cell_type": "markdown",
      "source": [
        "**Data Kategorik**:\n",
        "\n",
        "**Nominal**\n",
        "\n",
        "- Binary\n",
        "  - *sex*\n",
        "  - *survival* -> *alive*\n",
        "  - *adult_male*\n",
        "  - *alone*\n",
        "- Multi\n",
        "  - *embark* -> *embark_town*\n",
        "\n",
        "**Ordinal**\n",
        "\n",
        "- *pclass* -> *class*  \n",
        "\n",
        "**Data Numerik**:\n",
        "- *age*\n",
        "-\t*sibsp*\n",
        "- *parch*\n",
        "\n"
      ],
      "metadata": {
        "id": "57D_Mkv-vZUB"
      }
    },
    {
      "cell_type": "markdown",
      "source": [
        "## Tendensi Pemusatan"
      ],
      "metadata": {
        "id": "_vLdm5TW1xaa"
      }
    },
    {
      "cell_type": "markdown",
      "source": [
        "### Frekuensi dan proporsi"
      ],
      "metadata": {
        "id": "jo35qCq-1-VK"
      }
    },
    {
      "cell_type": "code",
      "source": [
        "#Menghitung frekuensi\n",
        "dataset.embark_town.value_counts()"
      ],
      "metadata": {
        "colab": {
          "base_uri": "https://localhost:8080/"
        },
        "id": "yENsTribuxxF",
        "outputId": "80283bfc-e912-444e-8f1e-fed4ca2fff0e"
      },
      "execution_count": null,
      "outputs": [
        {
          "output_type": "execute_result",
          "data": {
            "text/plain": [
              "Southampton    644\n",
              "Cherbourg      168\n",
              "Queenstown      77\n",
              "Name: embark_town, dtype: int64"
            ]
          },
          "metadata": {},
          "execution_count": 50
        }
      ]
    },
    {
      "cell_type": "code",
      "source": [
        "#Menghitung proporsi\n",
        "dataset.embark_town.value_counts(normalize = True)"
      ],
      "metadata": {
        "colab": {
          "base_uri": "https://localhost:8080/"
        },
        "id": "wIsgHiSKvwjx",
        "outputId": "dfed6a89-98c4-4ce9-d015-c1d19c42da59"
      },
      "execution_count": null,
      "outputs": [
        {
          "output_type": "execute_result",
          "data": {
            "text/plain": [
              "Southampton    0.724409\n",
              "Cherbourg      0.188976\n",
              "Queenstown     0.086614\n",
              "Name: embark_town, dtype: float64"
            ]
          },
          "metadata": {},
          "execution_count": 51
        }
      ]
    },
    {
      "cell_type": "markdown",
      "source": [
        "### Modus, Median, Mean"
      ],
      "metadata": {
        "id": "pGM2hlbE3wz7"
      }
    },
    {
      "cell_type": "code",
      "source": [
        "#Menghitung modus\n",
        "modus = dataset[\"fare\"].mode().values\n",
        "print(f\"Modus  = {modus} (bisa lebih dari satu nilai atau bimodus)\" )\n",
        "\n",
        "#Menghitung median\n",
        "median = dataset[\"fare\"].median()\n",
        "print(f\"Median = {median}\")\n",
        "\n",
        "#Memghitung mean\n",
        "mean = dataset[\"fare\"].mean()\n",
        "print(f\"Mean   = {mean}\")"
      ],
      "metadata": {
        "colab": {
          "base_uri": "https://localhost:8080/"
        },
        "id": "5TluewwWwAL-",
        "outputId": "84f38a25-7819-4c10-c736-5464304779d6"
      },
      "execution_count": null,
      "outputs": [
        {
          "output_type": "stream",
          "name": "stdout",
          "text": [
            "Modus  = [8.05] (bisa lebih dari satu nilai atau bimodus)\n",
            "Median = 14.4542\n",
            "Mean   = 32.204207968574636\n"
          ]
        }
      ]
    },
    {
      "cell_type": "code",
      "source": [
        "#Menghitung modus\n",
        "modus = dataset[\"age\"].mode().values\n",
        "print(f\"Modus  = {modus} (bisa lebih dari satu nilai atau bimodus)\" )\n",
        "\n",
        "#Menghitung median\n",
        "median = dataset[\"age\"].median()\n",
        "print(f\"Median = {median}\")\n",
        "\n",
        "#Memghitung mean\n",
        "mean = dataset[\"age\"].mean()\n",
        "print(f\"Mean   = {mean}\")"
      ],
      "metadata": {
        "colab": {
          "base_uri": "https://localhost:8080/"
        },
        "id": "iKdcM1vSQfl6",
        "outputId": "214822e9-ea09-4251-98ed-7a92713632a5"
      },
      "execution_count": null,
      "outputs": [
        {
          "output_type": "stream",
          "name": "stdout",
          "text": [
            "Modus  = [24.] (bisa lebih dari satu nilai atau bimodus)\n",
            "Median = 28.0\n",
            "Mean   = 29.69911764705882\n"
          ]
        }
      ]
    },
    {
      "cell_type": "markdown",
      "source": [
        "## Tendensi Penyebaran"
      ],
      "metadata": {
        "id": "c-qVFQZQ39Vv"
      }
    },
    {
      "cell_type": "markdown",
      "source": [
        "### Variance dan Standard Deviasi"
      ],
      "metadata": {
        "id": "OHsFeChV7n4K"
      }
    },
    {
      "cell_type": "code",
      "source": [
        "#Menghitung var\n",
        "var = dataset[\"fare\"].var()\n",
        "print(f\"Variance  = {var}\")\n",
        "\n",
        "#Menghitung median\n",
        "std = dataset[\"fare\"].std()\n",
        "print(f\"Standard Deviasi = {std}\")\n",
        "\n",
        "#Apakah sama?\n",
        "print(np.sqrt(var) == std)"
      ],
      "metadata": {
        "colab": {
          "base_uri": "https://localhost:8080/"
        },
        "id": "ZeoakKSU2agL",
        "outputId": "8b0f7473-8b07-4f90-b4bf-20db1b5bfe71"
      },
      "execution_count": null,
      "outputs": [
        {
          "output_type": "stream",
          "name": "stdout",
          "text": [
            "Variance  = 2469.436845743116\n",
            "Standard Deviasi = 49.6934285971809\n",
            "True\n"
          ]
        }
      ]
    },
    {
      "cell_type": "markdown",
      "source": [
        "### Statistik Lima Serangkai"
      ],
      "metadata": {
        "id": "ziIV-i817_Nl"
      }
    },
    {
      "cell_type": "code",
      "source": [
        "#Menghitung var\n",
        "minimum = dataset[\"fare\"].min()\n",
        "print(f\"Nilai minimum   = {minimum}\")\n",
        "\n",
        "Q1 = dataset[\"fare\"].quantile(0.25)\n",
        "print(f\"Nilai Q1        = {Q1}\")\n",
        "\n",
        "Q2 = dataset[\"fare\"].quantile(0.5)\n",
        "print(f\"Nilai Q2        = {Q2}\")\n",
        "\n",
        "Q3 = dataset[\"fare\"].quantile(0.75)\n",
        "print(f\"Nilai Q3        = {Q3}\")\n",
        "\n",
        "maksimum = dataset[\"fare\"].max()\n",
        "print(f\"Nilai maksimum  = {maksimum}\")"
      ],
      "metadata": {
        "colab": {
          "base_uri": "https://localhost:8080/"
        },
        "id": "8ZRgzzA83m65",
        "outputId": "bbb3eaf8-c2c2-44fe-950f-814c9923156f"
      },
      "execution_count": null,
      "outputs": [
        {
          "output_type": "stream",
          "name": "stdout",
          "text": [
            "Nilai minimum   = 0.0\n",
            "Nilai Q1        = 7.9104\n",
            "Nilai Q2        = 14.4542\n",
            "Nilai Q3        = 31.0\n",
            "Nilai maksimum  = 512.3292\n"
          ]
        }
      ]
    },
    {
      "cell_type": "markdown",
      "source": [
        "### Jangkauan, IQR, dan Persentil"
      ],
      "metadata": {
        "id": "lDF3bbvh-QO5"
      }
    },
    {
      "cell_type": "code",
      "source": [
        "jangkauan = maksimum - minimum\n",
        "print(f\"Nilai jangkauan = {jangkauan}\")\n",
        "\n",
        "iqr = Q3 - Q1\n",
        "print(f\"Nilai IQR  = {iqr}\")\n",
        "\n",
        "#Persentil 50 = Median\n",
        "print(median == Q2)\n",
        "\n",
        "#Persentil 0 = Minimum dan Persentil 100 = Maksimum\n",
        "print(minimum == dataset[\"fare\"].quantile(0))\n",
        "print(maksimum == dataset[\"fare\"].quantile(1))"
      ],
      "metadata": {
        "colab": {
          "base_uri": "https://localhost:8080/"
        },
        "id": "19Uti99i4I2a",
        "outputId": "40aa5cf9-60e2-4be7-f7e8-838c407e24b0"
      },
      "execution_count": null,
      "outputs": [
        {
          "output_type": "stream",
          "name": "stdout",
          "text": [
            "Nilai jangkauan = 512.3292\n",
            "Nilai IQR  = 23.0896\n",
            "False\n",
            "True\n",
            "True\n"
          ]
        }
      ]
    },
    {
      "cell_type": "markdown",
      "source": [
        "## Outliers, Boxplot, dan Histogram"
      ],
      "metadata": {
        "id": "wrO-zhr4-WbY"
      }
    },
    {
      "cell_type": "markdown",
      "source": [
        "### Outliers"
      ],
      "metadata": {
        "id": "XKGehMmp_IPQ"
      }
    },
    {
      "cell_type": "code",
      "source": [
        "batas_bawah = Q1 - 1.5 * iqr\n",
        "batas_atas = Q3 + 1.5 * iqr"
      ],
      "metadata": {
        "id": "AAHpGPDm4OvZ"
      },
      "execution_count": null,
      "outputs": []
    },
    {
      "cell_type": "code",
      "source": [
        "print(f\"outliers minior < {batas_bawah}\")\n",
        "print(f\"outliers mayor > {batas_atas}\")"
      ],
      "metadata": {
        "colab": {
          "base_uri": "https://localhost:8080/"
        },
        "id": "dl6777V9-x_j",
        "outputId": "75c47bc4-29e4-422e-c1eb-488cb3211f6c"
      },
      "execution_count": null,
      "outputs": [
        {
          "output_type": "stream",
          "name": "stdout",
          "text": [
            "outliers minior < -26.724\n",
            "outliers mayor > 65.6344\n"
          ]
        }
      ]
    },
    {
      "cell_type": "markdown",
      "source": [
        "### Boxplot"
      ],
      "metadata": {
        "id": "qaU-abfo_LVf"
      }
    },
    {
      "cell_type": "code",
      "source": [
        "#Membuat boxplot\n",
        "sns.boxplot(dataset[\"fare\"])\n",
        "plt.show()"
      ],
      "metadata": {
        "colab": {
          "base_uri": "https://localhost:8080/",
          "height": 335
        },
        "id": "N7BjSbcW8Xpn",
        "outputId": "6812030c-5260-430d-e227-dbcff83b8ca5"
      },
      "execution_count": null,
      "outputs": [
        {
          "output_type": "stream",
          "name": "stderr",
          "text": [
            "/usr/local/lib/python3.7/dist-packages/seaborn/_decorators.py:43: FutureWarning: Pass the following variable as a keyword arg: x. From version 0.12, the only valid positional argument will be `data`, and passing other arguments without an explicit keyword will result in an error or misinterpretation.\n",
            "  FutureWarning\n"
          ]
        },
        {
          "output_type": "display_data",
          "data": {
            "text/plain": [
              "<Figure size 432x288 with 1 Axes>"
            ],
            "image/png": "[encoded data removed]"
          },
          "metadata": {
            "needs_background": "light"
          }
        }
      ]
    },
    {
      "cell_type": "markdown",
      "source": [
        "### Histogram"
      ],
      "metadata": {
        "id": "hUGP20Fj_NZY"
      }
    },
    {
      "cell_type": "code",
      "source": [
        "sns.histplot(dataset[\"fare\"])\n",
        "plt.show()"
      ],
      "metadata": {
        "colab": {
          "base_uri": "https://localhost:8080/",
          "height": 279
        },
        "id": "ngDjWGgn-uNI",
        "outputId": "1a013596-5bf5-44a3-b12a-c7b70551373e"
      },
      "execution_count": null,
      "outputs": [
        {
          "output_type": "display_data",
          "data": {
            "text/plain": [
              "<Figure size 432x288 with 1 Axes>"
            ],
            "image/png": "[encoded data removed]"
          },
          "metadata": {
            "needs_background": "light"
          }
        }
      ]
    },
    {
      "cell_type": "code",
      "source": [],
      "metadata": {
        "id": "G-wjDVIE-_mj"
      },
      "execution_count": null,
      "outputs": []
    }
  ]
}