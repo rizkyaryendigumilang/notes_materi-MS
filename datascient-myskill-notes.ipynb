{
 "cells": [
  {
   "cell_type": "code",
   "execution_count": null,
   "metadata": {},
   "outputs": [],
   "source": [
    "## lIBRARY\n",
    "import numpy as np\n",
    "import pandas as pd\n",
    "import seaborn as sns\n",
    "import matplotlib.pyplot as plt"
   ]
  },
  {
   "cell_type": "code",
   "execution_count": null,
   "metadata": {},
   "outputs": [],
   "source": [
    "## Probality : kemukingan yang akan terjadi\n"
   ]
  },
  {
   "cell_type": "code",
   "execution_count": null,
   "metadata": {},
   "outputs": [],
   "source": [
    "## 2. Discrete Distribusi meuruk tersebasarn tertentu >> histogram\n",
    "from scipy.stats import bernoulli\n",
    "koin = bernoulli.rvs(size = 100, p = 0.5)\n",
    "#plot\n",
    "sns.hisplot(koin)\n",
    "plt.show()\n",
    "\n",
    "koin"
   ]
  },
  {
   "cell_type": "code",
   "execution_count": null,
   "metadata": {},
   "outputs": [],
   "source": [
    "## 3. binpmial > bernouli yang banyak pengulanganya banyak 2 koin dari distribusi bernouli \n",
    "from scipy.stats import binom\n",
    "koin = binom.rvs(size = 1000, n=10, p = 0.5)\n",
    "#plot\n",
    "sns. hisplot (koin)\n",
    "plt.show()"
   ]
  },
  {
   "cell_type": "code",
   "execution_count": null,
   "metadata": {},
   "outputs": [],
   "source": [
    "## 4. Distribusi Poisson Prediksi barang cacat (berapa banyak kejadian dari sebuah interval)\n",
    "from scipy.stats import poisson\n",
    "cacat = poisson.rvs(size = 100, mu = 2) #mu= rata2\n",
    "#plot\n",
    "sns.hisplot (cacat)\n",
    "plt.show()\n"
   ]
  },
  {
   "cell_type": "code",
   "execution_count": null,
   "metadata": {},
   "outputs": [],
   "source": [
    "## 5. distribusi yang memiliki peluang yang sama untuk nilai yang berbeda [0-9] setiap angka memiliki peluang\n",
    "##      untuk terpilih\n",
    "\n",
    "from scipy.stats import uniform\n",
    "uniform_data = uniform.rvs(size = 1000, loc = 0, scale = 9)\n",
    "#plot \n",
    "sns.hisplot(uniform_data)\n",
    "plt.show() "
   ]
  },
  {
   "cell_type": "code",
   "execution_count": null,
   "metadata": {},
   "outputs": [],
   "source": [
    "## 6. normal distribustion seperti lonceng dan sering digunakan untuk banyak kejadian atau sebuah interval\n",
    "\n",
    "from spicy.stats import norm\n",
    "kejadian = norm.rvs(size = 1000, loc = 70, scale = 10)\n",
    "##plot\n",
    "sns.hisplot (kejadian)\n",
    "plt.show()"
   ]
  },
  {
   "cell_type": "markdown",
   "metadata": {},
   "source": [
    "                                                            Mengitung Secara Manual"
   ]
  },
  {
   "cell_type": "code",
   "execution_count": null,
   "metadata": {},
   "outputs": [],
   "source": [
    "                                                                         ## Rata-Rata\n",
    "nilai = [74, 49, 68, 86, 80, 71, 77, 81, 72, 77]\n",
    "x_bar = np.mean(nilai)\n",
    "mu = 80\n",
    "s = np.std(nilai ddof = 1)\n",
    "n = len(nilai)\n",
    "t_stat = (x_bar - mu) / (s / np.sqrt(n))\n",
    "print(t_stat)"
   ]
  },
  {
   "cell_type": "code",
   "execution_count": null,
   "metadata": {},
   "outputs": [],
   "source": [
    "from scipy.stats import t\n",
    "t.ppf(0.05, n - 1)"
   ]
  },
  {
   "cell_type": "markdown",
   "metadata": {},
   "source": [
    "                                                            Menggunakan Function Python"
   ]
  },
  {
   "cell_type": "code",
   "execution_count": null,
   "metadata": {},
   "outputs": [],
   "source": [
    "from scipy.stats import ttest_lsamp\n",
    "t_stat, p_value = ttest_lsamp(nilai, mu) ##atau 80"
   ]
  },
  {
   "cell_type": "code",
   "execution_count": null,
   "metadata": {},
   "outputs": [],
   "source": [
    "kelas_1 = [74, 49, 68, 86, 80, 71, 77, 81, 72, 77]\n",
    "kelas_2 = [78, 57, 65, 82, 73, 76, 54, 58]"
   ]
  },
  {
   "cell_type": "code",
   "execution_count": null,
   "metadata": {},
   "outputs": [],
   "source": [
    "x_bar1 = np.mean(kelas_1)\n",
    "s1 = np.std (kelas_1 ddof = 1)\n",
    "n1 = len(kelas_1)\n",
    "\n",
    "x_bar2 = np.mean(kelas2)\n",
    "s2 = np.std(kelas_2 ddof = 1 )\n",
    "n2 = len(kelas_2)"
   ]
  },
  {
   "cell_type": "code",
   "execution_count": null,
   "metadata": {},
   "outputs": [],
   "source": [
    "print (f\"standart deviasi kelas 1: {s1}\")\n",
    "print (f\"standart deviasi kelas 2: {s2}\")"
   ]
  },
  {
   "cell_type": "code",
   "execution_count": null,
   "metadata": {},
   "outputs": [],
   "source": [
    "df = n1 + n2 - 2 \n",
    "sp = np.sqrt(((n1 -1) * np.power(s1, 2) + (n2 - 1 ) * np.power (s2, 2)) / df)"
   ]
  },
  {
   "cell_type": "code",
   "execution_count": null,
   "metadata": {},
   "outputs": [],
   "source": [
    "t_stat = (x_bar1 - x_bar2) / (sp * np.sqrt(1/n1 + 1/n2))"
   ]
  },
  {
   "cell_type": "code",
   "execution_count": null,
   "metadata": {},
   "outputs": [],
   "source": [
    "from scipy.stats import ttest_ind"
   ]
  },
  {
   "cell_type": "code",
   "execution_count": null,
   "metadata": {},
   "outputs": [],
   "source": [
    "if p_value < 0.05:\n",
    "    print(\"Nilai kelas 1 dan 2 Berbeda\")\n",
    "else:\n",
    "    print(\"nilai kelas 1 dan kelas 2 sama\")"
   ]
  },
  {
   "cell_type": "markdown",
   "metadata": {},
   "source": [
    "                                                    CONTOH PENGJUIAN HIPOTESIS DUA POPULASI BERPASANGAN"
   ]
  },
  {
   "cell_type": "code",
   "execution_count": null,
   "metadata": {},
   "outputs": [],
   "source": [
    "x_bar = np.mean(nilai)\n",
    "mu = 80\n",
    "s = np.std(nilai ddof = 1)\n",
    "n = len(nilai)\n",
    "t_stat = (x_bar - mu) / (s / np.sqrt(n))\n",
    "print(t_stat)"
   ]
  },
  {
   "cell_type": "code",
   "execution_count": null,
   "metadata": {},
   "outputs": [],
   "source": [
    "from scipy.stats import t\n",
    "t.ppf(0.05, n - 1)"
   ]
  },
  {
   "cell_type": "markdown",
   "metadata": {},
   "source": [
    "                                                                INDEPENDENT POPULATION"
   ]
  },
  {
   "cell_type": "code",
   "execution_count": null,
   "metadata": {},
   "outputs": [],
   "source": [
    "x_bar1 = np.mean(kelas_1)\n",
    "s1 = np.std (kelas_1 ddof = 1)\n",
    "n1 = len(kelas_1)\n",
    "\n",
    "x_bar2 = np.mean(kelas2)\n",
    "s2 = np.std(kelas_2 ddof = 1 )\n",
    "n2 = len(kelas_2)\n",
    "\n",
    "print (f\"standart deviasi kelas 1: {s1}\")\n",
    "print (f\"standart deviasi kelas 2: {s2}\")"
   ]
  },
  {
   "cell_type": "code",
   "execution_count": null,
   "metadata": {},
   "outputs": [],
   "source": [
    "df = n1 + n2 - 2 \n",
    "sp = np.sqrt(((n1 -1) * np.power(s1, 2) + (n2 - 1 ) * np.power (s2, 2)) / df)"
   ]
  },
  {
   "cell_type": "code",
   "execution_count": null,
   "metadata": {},
   "outputs": [],
   "source": [
    "t_stat = (x_bar1 - x_bar2) / (sp * np.sqrt(1/n1 + 1/n2))"
   ]
  },
  {
   "cell_type": "code",
   "execution_count": null,
   "metadata": {},
   "outputs": [],
   "source": [
    "from scipy.stats import ttest_ind"
   ]
  },
  {
   "cell_type": "markdown",
   "metadata": {},
   "source": [
    "                                                                    PAIRED SAMPLE T TEST \n",
    "                                                    CONTOH PENGUJIAN HOPOTESIS DUA POPULASI BERPASANGAN"
   ]
  },
  {
   "cell_type": "code",
   "execution_count": null,
   "metadata": {},
   "outputs": [],
   "source": [
    "sebelum = [59, 71, 64, 75, 75, 61, 52, 66, 71, 69]\n",
    "sesudah = [98, 91, 86, 72, 77, 54, 69, 89, 66, 87]"
   ]
  },
  {
   "cell_type": "code",
   "execution_count": null,
   "metadata": {},
   "outputs": [],
   "source": [
    "beda = np.array(sesudah) - np.array(sebelum)\n",
    "x_beda = np.mean(beda)\n",
    "sd  = np.std (beda, ddof = 1)\n",
    "n   = len(beda)\n",
    "mu  = 0"
   ]
  },
  {
   "cell_type": "code",
   "execution_count": null,
   "metadata": {},
   "outputs": [],
   "source": [
    "t_stat = (x_beda - mu) / (sd / np.sqrt(n))"
   ]
  },
  {
   "cell_type": "code",
   "execution_count": null,
   "metadata": {},
   "outputs": [],
   "source": [
    "t_stat"
   ]
  },
  {
   "cell_type": "code",
   "execution_count": null,
   "metadata": {},
   "outputs": [],
   "source": [
    "from scipy.stats import ttest_rel"
   ]
  },
  {
   "cell_type": "code",
   "execution_count": null,
   "metadata": {},
   "outputs": [],
   "source": [
    "t_stat, p_value = ttest_rel(sesudah, sebelum)"
   ]
  },
  {
   "cell_type": "code",
   "execution_count": null,
   "metadata": {},
   "outputs": [],
   "source": [
    "if p_value < 0.05:\n",
    "    print(\"Nilai sesudah berbeda dari pada nilai sebelum\")\n",
    "else:\n",
    "    print(\"nilai Sesudah sama dengan Nilai Sebelum\")"
   ]
  },
  {
   "cell_type": "code",
   "execution_count": null,
   "metadata": {},
   "outputs": [],
   "source": [
    "t_stat"
   ]
  },
  {
   "cell_type": "markdown",
   "metadata": {},
   "source": [
    "                                                                   UJI PERBEDAAN PROPOSI         "
   ]
  },
  {
   "cell_type": "code",
   "execution_count": null,
   "metadata": {},
   "outputs": [],
   "source": [
    "perempuan         = 314\n",
    "laki_laki         = 577\n",
    "perempuan_selamat = 233\n",
    "laki_laki_selamat = 109"
   ]
  },
  {
   "cell_type": "code",
   "execution_count": null,
   "metadata": {},
   "outputs": [],
   "source": [
    "proposi_perempuan  = perempuan / perempuan_selamat\n",
    "proporsi_laki_laki = laki_laki / laki_laki_selamat\n",
    "\n",
    "gabuangan = (laki_laki_selamat + perempuan_selamat) / (laki_laki + perempuan)\n"
   ]
  },
  {
   "cell_type": "code",
   "execution_count": null,
   "metadata": {},
   "outputs": [],
   "source": [
    "korban = (proposi_perempuan - proporsi_laki_laki) / np.sqrt(gabuangan * (1 -gabuangan) * ( 1 / perempuan + laki_laki))\n",
    "print (korban)"
   ]
  },
  {
   "cell_type": "code",
   "execution_count": null,
   "metadata": {},
   "outputs": [],
   "source": [
    "from statsmodel.stats.propotion import propotion_ztest"
   ]
  },
  {
   "cell_type": "code",
   "execution_count": null,
   "metadata": {},
   "outputs": [],
   "source": [
    "propotion_ztest([perempuan_selamat, laki_laki_selamat], [perempuan, laki_laki])"
   ]
  },
  {
   "cell_type": "code",
   "execution_count": null,
   "metadata": {},
   "outputs": [],
   "source": []
  }
 ],
 "metadata": {
  "language_info": {
   "name": "python"
  },
  "orig_nbformat": 4
 },
 "nbformat": 4,
 "nbformat_minor": 2
}
